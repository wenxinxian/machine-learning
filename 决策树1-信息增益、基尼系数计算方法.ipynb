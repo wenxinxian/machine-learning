{
 "cells": [
  {
   "cell_type": "markdown",
   "metadata": {},
   "source": [
    "信息熵、信息增益与信息增益率"
   ]
  },
  {
   "cell_type": "code",
   "execution_count": 7,
   "metadata": {},
   "outputs": [],
   "source": [
    "import numpy as np"
   ]
  },
  {
   "cell_type": "code",
   "execution_count": 2,
   "metadata": {},
   "outputs": [],
   "source": [
    "data_dict={'feature':[[0,1],[1,0],[1,2],[0,0],[1,1]],'label':[0,1,0,0,1],'index':[0]}\n",
    "key_number={}"
   ]
  },
  {
   "cell_type": "code",
   "execution_count": 8,
   "metadata": {},
   "outputs": [
    {
     "name": "stdout",
     "output_type": "stream",
     "text": [
      "[[1]\n",
      " [0]\n",
      " [2]\n",
      " [0]\n",
      " [1]]\n"
     ]
    }
   ],
   "source": [
    "feature=np.array([[0,1],[1,0],[1,2],[0,0],[1,1]])\n",
    "index=1\n",
    "label=[0,1,0,0,1]\n",
    "print(feature[:,index:index+1]) # 取numpy数组单列"
   ]
  },
  {
   "cell_type": "code",
   "execution_count": null,
   "metadata": {},
   "outputs": [],
   "source": [
    "def calcInfoGain(feature, label, index):\n",
    "    '''\n",
    "    计算信息增益\n",
    "    :param feature:测试用例中字典里的feature，类型为ndarray\n",
    "    :param label:测试用例中字典里的label，类型为ndarray\n",
    "    :param index:测试用例中字典里的index，即feature部分特征列的索引。该索引指的是feature中第几个特征，如index:0表示使用第一个特征来计算信息增益。\n",
    "    :return:信息增益，类型float\n",
    "    '''\n",
    "    #*********** Begin ***********#\n",
    "    number_1=0\n",
    "    for i in label:\n",
    "        if i==1:number_1+=1\n",
    "        prob_label=number_1/len(label)\n",
    "    HD=-(1-prob_label)*np.log(1-prob_label,2)-prob_label*np.log(prob_label,2)\n",
    "    for num in feature[:,:index+1]:\n",
    "        key_label=num\n",
    "#         if key_label not in key_number.keys():key_number[key_label]=0\n",
    "        key_number[key_label]+=1\n",
    "    for keys in key_number:\n",
    "        prob1=float(key_number[keys])/len(label)\n",
    "        shannon-=prob1*log(prob1,2)\n",
    "    result=float(HV-shannon)\n",
    "    print(result)"
   ]
  },
  {
   "cell_type": "code",
   "execution_count": 20,
   "metadata": {},
   "outputs": [],
   "source": [
    "def createDataSet():\n",
    "    # 数据集\n",
    "    dataSet = [[0, 0, 0, 0, 'no'],\n",
    "               [0, 0, 0, 1, 'no'],\n",
    "               [0, 1, 0, 1, 'yes'],\n",
    "               [0, 1, 1, 0, 'yes'],\n",
    "               [0, 0, 0, 0, 'no'],\n",
    "               [1, 0, 0, 0, 'no'],\n",
    "               [1, 0, 0, 1, 'no'],\n",
    "               [1, 1, 1, 1, 'yes'],\n",
    "               [1, 0, 1, 2, 'yes'],\n",
    "               [1, 0, 1, 2, 'yes'],\n",
    "               [2, 0, 1, 2, 'yes'],\n",
    "               [2, 0, 1, 1, 'yes'],\n",
    "               [2, 1, 0, 1, 'yes'],\n",
    "               [2, 1, 0, 2, 'yes'],\n",
    "               [2, 0, 0, 0, 'no']]\n",
    "    # 分类属性\n",
    "    labels = ['年龄', '有工作', '有自己的房子', '信贷情况']\n",
    "    # 返回数据集和分类属性\n",
    "    return dataSet, labels"
   ]
  },
  {
   "cell_type": "markdown",
   "metadata": {},
   "source": [
    "函数说明：计算给定数据集的经验熵（香农熵）\n",
    "        Ent（D） = -SUM（kp*Log2（kp））\n",
    "Parameters:\n",
    "    dataSet - 数据集\n",
    "    \n",
    "Returns:\n",
    "    shannonEnt - 经验熵（香农熵）"
   ]
  },
  {
   "cell_type": "code",
   "execution_count": 28,
   "metadata": {},
   "outputs": [],
   "source": [
    "def calcShannonEnt(dataSet):\n",
    "    # 返回数据集的行数\n",
    "    numEntires = len(dataSet)\n",
    "    # 保存每个标签（Label）出现次数的“字典”\n",
    "    labelCounts = {}\n",
    "    # 对每组特征向量进行统计\n",
    "    for featVec in dataSet:\n",
    "        # 提取标签（Label）信息\n",
    "        currentLabel = featVec[-1]\n",
    "        # 如果标签（Label）没有放入统计次数的字典，添加进去\n",
    "        if currentLabel not in labelCounts.keys():\n",
    "            # 创建一个新的键值对，键为currentLabel值为0\n",
    "            labelCounts[currentLabel] = 0\n",
    "        # Label计数\n",
    "        labelCounts[currentLabel] += 1\n",
    "    # 经验熵（香农熵）\n",
    "    shannonEnt = 0.0\n",
    "    # 计算香农熵\n",
    "    for key in labelCounts:\n",
    "        # 选择该标签（Label）的概率\n",
    "        prob = float(labelCounts[key]) / numEntires\n",
    "        # 利用公式计算\n",
    "        shannonEnt -= prob*np.math.log(prob,2)\n",
    "    # 返回经验熵（香农熵）\n",
    "    return shannonEnt"
   ]
  },
  {
   "cell_type": "code",
   "execution_count": 29,
   "metadata": {},
   "outputs": [
    {
     "data": {
      "text/plain": [
       "0.9709505944546686"
      ]
     },
     "execution_count": 29,
     "metadata": {},
     "output_type": "execute_result"
    }
   ],
   "source": [
    "data,label=createDataSet()\n",
    "calcShannonEnt(data)"
   ]
  },
  {
   "cell_type": "code",
   "execution_count": 7,
   "metadata": {},
   "outputs": [],
   "source": [
    "def calcInfoGain(feature, label, index):\n",
    "    num=len(label)\n",
    "    number=0\n",
    "    shannon=0.0\n",
    "    shannon_fea=0.0\n",
    "    labelcount={}\n",
    "    featurecount={}\n",
    "    for i in label:\n",
    "        if i not in labelcount.keys():\n",
    "            labelcount[i]=0\n",
    "        labelcount[i]+=1\n",
    "        for j in feature[index]:\n",
    "            if i==1:\n",
    "                number+=1\n",
    "                if j not in featurecount.keys():\n",
    "                    feature[j]=0\n",
    "                feature[j]+=1\n",
    "    for label_key in labelcount:\n",
    "        prob=labelcount[label_key]/num\n",
    "        shannon+=-prob*np.math.log(prob,2)\n",
    "    for feature_key in featurecount:\n",
    "        prob_fea=feature[feature_key]/number\n",
    "        shannon_fea+=-prob_fea*np.math.log(prob_fea,2)\n",
    "    return shannon_fea"
   ]
  },
  {
   "cell_type": "code",
   "execution_count": 8,
   "metadata": {},
   "outputs": [
    {
     "data": {
      "text/plain": [
       "0.0"
      ]
     },
     "execution_count": 8,
     "metadata": {},
     "output_type": "execute_result"
    }
   ],
   "source": [
    "calcInfoGain(feature, label, index) #结果有误，，"
   ]
  },
  {
   "cell_type": "markdown",
   "metadata": {},
   "source": [
    "使用pandas计算条件熵额信息增益"
   ]
  },
  {
   "cell_type": "code",
   "execution_count": 3,
   "metadata": {},
   "outputs": [],
   "source": [
    "import pandas as pd"
   ]
  },
  {
   "cell_type": "code",
   "execution_count": 15,
   "metadata": {},
   "outputs": [
    {
     "name": "stdout",
     "output_type": "stream",
     "text": [
      "   feature1  feature2  label\n",
      "0         0         1      0\n",
      "1         1         0      1\n",
      "2         1         2      0\n",
      "3         0         0      0\n",
      "4         1         1      1\n"
     ]
    }
   ],
   "source": [
    "data_dict={'feature1':[0,1,1,0,1],'feature2':[1,0,2,0,1],'label':[0,1,0,0,1]}\n",
    "date=pd.DataFrame(data_dict)\n",
    "print(date)"
   ]
  },
  {
   "cell_type": "markdown",
   "metadata": {},
   "source": [
    "value_counts()-计算某列中有多少个不同值"
   ]
  },
  {
   "cell_type": "code",
   "execution_count": 12,
   "metadata": {},
   "outputs": [
    {
     "name": "stdout",
     "output_type": "stream",
     "text": [
      "0    3\n",
      "1    2\n",
      "Name: label, dtype: int64\n"
     ]
    }
   ],
   "source": [
    "label_key=date['label'].value_counts()\n",
    "print(label_key)"
   ]
  },
  {
   "cell_type": "code",
   "execution_count": 16,
   "metadata": {},
   "outputs": [
    {
     "name": "stdout",
     "output_type": "stream",
     "text": [
      "0    0.6\n",
      "1    0.4\n",
      "Name: label, dtype: float64\n",
      "0.0    3\n",
      "0.2    2\n",
      "Name: label, dtype: int64\n"
     ]
    }
   ],
   "source": [
    "print(label_key/len('label'))\n",
    "prob=pd.value_counts(date['label']/len('label')) #查找值除某值后，计数\n",
    "print(prob)"
   ]
  },
  {
   "cell_type": "code",
   "execution_count": 22,
   "metadata": {},
   "outputs": [
    {
     "name": "stdout",
     "output_type": "stream",
     "text": [
      "0.9709505944546686\n"
     ]
    }
   ],
   "source": [
    "# 经验熵 dataframe中sum函数 asix=0,对列求和\n",
    "prob_hd=label_key/len('label')\n",
    "HD=float(sum((-prob_hd)*np.log2(prob_hd)))  \n",
    "print(HD)"
   ]
  },
  {
   "cell_type": "code",
   "execution_count": 11,
   "metadata": {},
   "outputs": [],
   "source": [
    "# 信息熵计算打包为函数\n",
    "def ent(data):\n",
    "    label_key=data.value_counts()\n",
    "    prob=label_key/len(data)\n",
    "    return float(sum((-prob)*np.log2(prob))) "
   ]
  },
  {
   "cell_type": "markdown",
   "metadata": {},
   "source": [
    "dataframe中apply用法"
   ]
  },
  {
   "cell_type": "code",
   "execution_count": 5,
   "metadata": {},
   "outputs": [
    {
     "name": "stdout",
     "output_type": "stream",
     "text": [
      "   feature1  feature2  label\n",
      "0         1         2      1\n",
      "1         2         1      2\n",
      "2         2         3      1\n",
      "3         1         1      1\n",
      "4         2         2      2\n"
     ]
    }
   ],
   "source": [
    "e1=date.apply(lambda x :x+1)  # 所有元素+1 lambda为隐藏函数\n",
    "print(e1)"
   ]
  },
  {
   "cell_type": "markdown",
   "metadata": {},
   "source": [
    "计算条件熵"
   ]
  },
  {
   "cell_type": "code",
   "execution_count": 12,
   "metadata": {},
   "outputs": [
    {
     "name": "stdout",
     "output_type": "stream",
     "text": [
      "feature1\n",
      "0    0.000000\n",
      "1    0.918296\n",
      "dtype: float64\n"
     ]
    }
   ],
   "source": [
    "te1=date.groupby('feature1').apply(lambda x:ent(x['label'])) # 使用第一列进行分组，在每个分组中求对于label的信息熵\n",
    "print(te1)"
   ]
  },
  {
   "cell_type": "code",
   "execution_count": 20,
   "metadata": {},
   "outputs": [],
   "source": [
    "# 信息增益函数\n",
    "def gain(data,str1,str2):\n",
    "    e1=data.groupby(str1).apply(lambda x:ent(x[str2])) # 计算各分组中srt1条件下信息熵\n",
    "    p1=pd.value_counts(data[str1])/len(data[str1])  # 计算分组条件str1的概率\n",
    "    sh1=sum(p1*e1)  # 计算条件熵\n",
    "    shannon=ent(data[str2])\n",
    "    return shannon-sh1 "
   ]
  },
  {
   "cell_type": "code",
   "execution_count": 21,
   "metadata": {},
   "outputs": [
    {
     "data": {
      "text/plain": [
       "0.4199730940219749"
      ]
     },
     "execution_count": 21,
     "metadata": {},
     "output_type": "execute_result"
    }
   ],
   "source": [
    "gain(date,'feature1','label') #计算正确"
   ]
  },
  {
   "cell_type": "code",
   "execution_count": null,
   "metadata": {},
   "outputs": [],
   "source": []
  },
  {
   "cell_type": "markdown",
   "metadata": {},
   "source": [
    "信息增益率计算--不使用pandas的信息增益计算"
   ]
  },
  {
   "cell_type": "code",
   "execution_count": null,
   "metadata": {},
   "outputs": [],
   "source": [
    "import numpy as np\n",
    "\n",
    "def calcInfoGain(feature, label, index):\n",
    "    '''\n",
    "    计算信息增益\n",
    "    :param feature:测试用例中字典里的feature，类型为ndarray\n",
    "    :param label:测试用例中字典里的label，类型为ndarray\n",
    "    :param index:测试用例中字典里的index，即feature部分特征列的索引。该索引指的是feature中第几个特征，如index:0表示使用第一个特征来计算信息增益。\n",
    "    :return:信息增益，类型float\n",
    "    '''\n",
    "    # 计算熵\n",
    "    def calcInfoEntropy(label):\n",
    "        '''\n",
    "        计算信息熵\n",
    "        :param label:数据集中的标签，类型为ndarray\n",
    "        :return:信息熵，类型float\n",
    "        '''\n",
    "\n",
    "        label_set = set(label) # set函数创建无序不重复元素集  why?\n",
    "        result = 0\n",
    "        for l in label_set:\n",
    "            count = 0\n",
    "            for j in range(len(label)):\n",
    "                if label[j] == l:\n",
    "                    count += 1\n",
    "            # 计算标签在数据集中出现的概率\n",
    "            p = count / len(label)\n",
    "            # 计算熵\n",
    "            result -= p * np.log2(p)\n",
    "        return result\n",
    "\n",
    "    # 计算条件熵\n",
    "    def calcHDA(feature, label, index, value):\n",
    "        '''\n",
    "        计算信息熵\n",
    "        :param feature:数据集中的特征，类型为ndarray\n",
    "        :param label:数据集中的标签，类型为ndarray\n",
    "        :param index:需要使用的特征列索引，类型为int\n",
    "        :param value:index所表示的特征列中需要考察的特征值，类型为int\n",
    "        :return:信息熵，类型float\n",
    "        '''\n",
    "        count = 0\n",
    "        # sub_label表示根据特征列和特征值分割出的子数据集中的标签\n",
    "        sub_label = []\n",
    "        for i in range(len(feature)):\n",
    "            if feature[i][index] == value:\n",
    "                count += 1\n",
    "                sub_label.append(label[i])\n",
    "        pHA = count / len(feature)\n",
    "        e = calcInfoEntropy(sub_label)\n",
    "        return pHA * e\n",
    "\n",
    "    base_e = calcInfoEntropy(label)\n",
    "    f = np.array(feature)\n",
    "    # 得到指定特征列的值的集合\n",
    "    f_set = set(f[:, index])\n",
    "    sum_HDA = 0\n",
    "    # 计算条件熵\n",
    "    for value in f_set:\n",
    "        sum_HDA += calcHDA(feature, label, index, value)\n",
    "    # 计算信息增益\n",
    "    return base_e - sum_HDA\n",
    "\n",
    "\n",
    "def calcInfoGainRatio(feature, label, index):\n",
    "    '''\n",
    "    计算信息增益率\n",
    "    :param feature:测试用例中字典里的feature，类型为ndarray\n",
    "    :param label:测试用例中字典里的label，类型为ndarray\n",
    "    :param index:测试用例中字典里的index，即feature部分特征列的索引。该索引指的是feature中第几个特征，如index:0表示使用第一个特征来计算信息增益。\n",
    "    :return:信息增益率，类型float\n",
    "    '''\n"
   ]
  },
  {
   "cell_type": "code",
   "execution_count": 1,
   "metadata": {},
   "outputs": [],
   "source": [
    "# 计算信息熵\n",
    "def calcInfoEntropy(label):\n",
    "        label_set = set(label)\n",
    "        result = 0\n",
    "        for l in label_set:\n",
    "            count = 0\n",
    "            for j in range(len(label)):\n",
    "                if label[j] == l:\n",
    "                    count += 1\n",
    "            # 计算标签在数据集中出现的概率\n",
    "            p = count / len(label)\n",
    "            # 计算熵\n",
    "            result -= p * np.log2(p)\n",
    "        return result"
   ]
  },
  {
   "cell_type": "code",
   "execution_count": 2,
   "metadata": {},
   "outputs": [],
   "source": [
    "#计算条件熵\n",
    "def calcHDA(feature, label, index, value):\n",
    "        '''\n",
    "        计算信息熵\n",
    "        :param feature:数据集中的特征，类型为ndarray\n",
    "        :param label:数据集中的标签，类型为ndarray\n",
    "        :param index:需要使用的特征列索引，类型为int\n",
    "        :param value:index所表示的特征列中需要考察的特征值，类型为int\n",
    "        :return:信息熵，类型float\n",
    "        '''\n",
    "        count = 0\n",
    "        # sub_label表示根据特征列和特征值分割出的子数据集中的标签\n",
    "        sub_label = []\n",
    "        for i in range(len(feature)):\n",
    "            if feature[i][index] == value:\n",
    "                count += 1\n",
    "                sub_label.append(label[i])\n",
    "        pHA = count / len(feature)\n",
    "        e = calcInfoEntropy(sub_label)\n",
    "        return pHA * e"
   ]
  },
  {
   "cell_type": "code",
   "execution_count": 3,
   "metadata": {},
   "outputs": [],
   "source": [
    "# 信息增益\n",
    "def calcInfoGain(feature,label,index):\n",
    "    base_e = calcInfoEntropy(label)\n",
    "    f = np.array(feature)\n",
    "    # 得到指定特征列的值的集合\n",
    "    f_set = set(f[:, index])\n",
    "    sum_HDA = 0\n",
    "    # 计算条件熵\n",
    "    for value in f_set:\n",
    "        sum_HDA += calcHDA(feature, label, index, value)\n",
    "    # 计算信息增益\n",
    "    return base_e - sum_HDA"
   ]
  },
  {
   "cell_type": "markdown",
   "metadata": {},
   "source": [
    "信息增益率"
   ]
  },
  {
   "cell_type": "code",
   "execution_count": 4,
   "metadata": {},
   "outputs": [],
   "source": [
    "def calcInfoGainRatio1(feature, label, index):\n",
    "\n",
    "    #********* Begin *********#\n",
    "    gain=calcInfoGain(feature,label,index)\n",
    "    \n",
    "    f_a=np.array(feature[:,index])\n",
    "    print(f_a)\n",
    "    result = 0\n",
    "    labelcount={}\n",
    "    for l in f_a:\n",
    "        key=l\n",
    "        if key not in labelcount.keys():\n",
    "            labelcount[key]=0\n",
    "        labelcount[key]+=1\n",
    "    print(labelcount)\n",
    "    \n",
    "    for f in labelcount.keys():\n",
    "        p=labelcount[f]/len(label)\n",
    "#         p = count / len(label)\n",
    "        print(p)\n",
    "\n",
    "        result -= p * np.log2(p)\n",
    "        \n",
    "    return gain/result"
   ]
  },
  {
   "cell_type": "code",
   "execution_count": 9,
   "metadata": {},
   "outputs": [
    {
     "name": "stdout",
     "output_type": "stream",
     "text": [
      "[1 0 2 0 1]\n",
      "{1: 2, 0: 2, 2: 1}\n",
      "0.4\n",
      "0.4\n",
      "0.2\n"
     ]
    },
    {
     "data": {
      "text/plain": [
       "0.11232501392736335"
      ]
     },
     "execution_count": 9,
     "metadata": {},
     "output_type": "execute_result"
    }
   ],
   "source": [
    "calcInfoGainRatio1(feature, label, index)"
   ]
  },
  {
   "cell_type": "markdown",
   "metadata": {},
   "source": [
    "基尼系数"
   ]
  },
  {
   "cell_type": "code",
   "execution_count": 10,
   "metadata": {},
   "outputs": [],
   "source": [
    "def calcGini_all(label):\n",
    "    label_set = set(label)\n",
    "    result = 0\n",
    "    for l in label_set:\n",
    "        count = 0\n",
    "        for j in range(len(label)):\n",
    "            if label[j] == l:\n",
    "                count += 1\n",
    "            # 计算标签在数据集中出现的概率\n",
    "        p = count / len(label)\n",
    "        print(p)\n",
    "        result +=p*(1-p)\n",
    "    return result"
   ]
  },
  {
   "cell_type": "code",
   "execution_count": 11,
   "metadata": {},
   "outputs": [
    {
     "name": "stdout",
     "output_type": "stream",
     "text": [
      "0.6\n",
      "0.4\n"
     ]
    },
    {
     "data": {
      "text/plain": [
       "0.48"
      ]
     },
     "execution_count": 11,
     "metadata": {},
     "output_type": "execute_result"
    }
   ],
   "source": [
    "calcGini_all(label)"
   ]
  },
  {
   "cell_type": "code",
   "execution_count": 12,
   "metadata": {},
   "outputs": [],
   "source": [
    "def calcGini_b(feature, label,index,value):\n",
    "        count_g = 0\n",
    "        # sub_label表示根据特征列和特征值分割出的子数据集中的标签\n",
    "        subg_label = []\n",
    "        tmp_label = []\n",
    "        tmp_label =list(label)\n",
    "        \n",
    "        print(tmp_label)\n",
    "        print(label)\n",
    "        for i in range(len(label)):\n",
    "            if feature[i][index] == value:\n",
    "                count_g += 1\n",
    "                subg_label.append(label[i])\n",
    "                tmp_label.remove(label[i])         \n",
    "        print(subg_label)\n",
    "        print(tmp_label)\n",
    "        print(label)\n",
    "        \n",
    "        pHA = count_g / len(label)\n",
    "        print(pHA)\n",
    "        e = calcGini_all(subg_label)\n",
    "        d=calcGini_all(tmp_label)\n",
    "        return pHA * e+(1-pHA)*d"
   ]
  },
  {
   "cell_type": "code",
   "execution_count": 13,
   "metadata": {},
   "outputs": [],
   "source": [
    "def calcGini(feature, label, index):\n",
    "    gini_di=0\n",
    "    list_gi=[]\n",
    "    f_di=feature[:,index]\n",
    "    for value in f_di:\n",
    "        gini_di=calcGini_b(feature, label, index, value)\n",
    "        list_gi.append(gini_di)\n",
    "        list_gi.sort()\n",
    "        min_list=list_gi[0]\n",
    "    return min_list"
   ]
  },
  {
   "cell_type": "code",
   "execution_count": 14,
   "metadata": {},
   "outputs": [
    {
     "name": "stdout",
     "output_type": "stream",
     "text": [
      "[0, 1, 0, 0, 1]\n",
      "[0, 1, 0, 0, 1]\n",
      "[0, 1]\n",
      "[0, 0, 1]\n",
      "[0, 1, 0, 0, 1]\n",
      "0.4\n",
      "0.5\n",
      "0.5\n",
      "0.6666666666666666\n",
      "0.3333333333333333\n",
      "[0, 1, 0, 0, 1]\n",
      "[0, 1, 0, 0, 1]\n",
      "[1, 0]\n",
      "[0, 0, 1]\n",
      "[0, 1, 0, 0, 1]\n",
      "0.4\n",
      "0.5\n",
      "0.5\n",
      "0.6666666666666666\n",
      "0.3333333333333333\n",
      "[0, 1, 0, 0, 1]\n",
      "[0, 1, 0, 0, 1]\n",
      "[0]\n",
      "[1, 0, 0, 1]\n",
      "[0, 1, 0, 0, 1]\n",
      "0.2\n",
      "1.0\n",
      "0.5\n",
      "0.5\n",
      "[0, 1, 0, 0, 1]\n",
      "[0, 1, 0, 0, 1]\n",
      "[1, 0]\n",
      "[0, 0, 1]\n",
      "[0, 1, 0, 0, 1]\n",
      "0.4\n",
      "0.5\n",
      "0.5\n",
      "0.6666666666666666\n",
      "0.3333333333333333\n",
      "[0, 1, 0, 0, 1]\n",
      "[0, 1, 0, 0, 1]\n",
      "[0, 1]\n",
      "[0, 0, 1]\n",
      "[0, 1, 0, 0, 1]\n",
      "0.4\n",
      "0.5\n",
      "0.5\n",
      "0.6666666666666666\n",
      "0.3333333333333333\n"
     ]
    },
    {
     "data": {
      "text/plain": [
       "0.4"
      ]
     },
     "execution_count": 14,
     "metadata": {},
     "output_type": "execute_result"
    }
   ],
   "source": [
    "calcGini(feature, label, index)"
   ]
  },
  {
   "cell_type": "code",
   "execution_count": null,
   "metadata": {},
   "outputs": [],
   "source": []
  }
 ],
 "metadata": {
  "kernelspec": {
   "display_name": "Python 3",
   "language": "python",
   "name": "python3"
  },
  "language_info": {
   "codemirror_mode": {
    "name": "ipython",
    "version": 3
   },
   "file_extension": ".py",
   "mimetype": "text/x-python",
   "name": "python",
   "nbconvert_exporter": "python",
   "pygments_lexer": "ipython3",
   "version": "3.7.6"
  }
 },
 "nbformat": 4,
 "nbformat_minor": 4
}
