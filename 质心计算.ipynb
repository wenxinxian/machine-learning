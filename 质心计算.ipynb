{
 "cells": [
  {
   "cell_type": "markdown",
   "metadata": {},
   "source": [
    "质心计算"
   ]
  },
  {
   "cell_type": "code",
   "execution_count": 1,
   "metadata": {},
   "outputs": [],
   "source": [
    "#encoding=utf8\n",
    "import numpy as np\n",
    "#计算样本间距离\n",
    "def distance(x, y, p=2):\n",
    "    '''\n",
    "    input:x(ndarray):第一个样本的坐标\n",
    "          y(ndarray):第二个样本的坐标\n",
    "          p(int):等于1时为曼哈顿距离，等于2时为欧氏距离\n",
    "    output:distance(float):x到y的距离      \n",
    "    '''\n",
    "    #********* Begin *********#    \n",
    "    d1=np.sqrt(np.sum(abs(x-y)**p))\n",
    "    return d1\n",
    "    #********* End *********#\n",
    "    \n",
    "#计算质心\n",
    "def cal_Cmass(data):\n",
    "    '''\n",
    "    input:data(ndarray):数据样本\n",
    "    output:mass(ndarray):数据样本质心\n",
    "    '''\n",
    "    #********* Begin *********#\n",
    "    list_s=[]\n",
    "    for i in range(data.shape[1]):\n",
    "        point=(sum(data[:,i])/data.shape[0])\n",
    "        list_s.append(point)\n",
    "# list_s=point\n",
    "    Cmass=np.array(list_s)\n",
    "    #********* End *********#\n",
    "    return Cmass\n",
    "\n",
    "#计算每个样本到质心的距离，并按照从小到大的顺序排列\n",
    "def sorted_list(data,Cmass):\n",
    "    '''\n",
    "    input:data(ndarray):数据样本\n",
    "          Cmass(ndarray):数据样本质心\n",
    "    output:dis_list(list):排好序的样本到质心距离\n",
    "    '''\n",
    "    #********* Begin *********#\n",
    "    list_da=[]\n",
    "    for d in data:   \n",
    "        list_d=distance(d,Cmass)\n",
    "        list_da.append(list_d)\n",
    "    dis_list=sorted(list_da)\n",
    "    #********* End *********#\n",
    "    return dis_list\n",
    "\n",
    "\n",
    "\n",
    "\n",
    "\n",
    "\n",
    "\n",
    "\n",
    "\n",
    "\n"
   ]
  },
  {
   "cell_type": "code",
   "execution_count": null,
   "metadata": {},
   "outputs": [],
   "source": []
  }
 ],
 "metadata": {
  "kernelspec": {
   "display_name": "Python 3",
   "language": "python",
   "name": "python3"
  },
  "language_info": {
   "codemirror_mode": {
    "name": "ipython",
    "version": 3
   },
   "file_extension": ".py",
   "mimetype": "text/x-python",
   "name": "python",
   "nbconvert_exporter": "python",
   "pygments_lexer": "ipython3",
   "version": "3.7.6"
  }
 },
 "nbformat": 4,
 "nbformat_minor": 4
}
