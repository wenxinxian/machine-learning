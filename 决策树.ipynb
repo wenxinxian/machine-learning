{
 "cells": [
  {
   "cell_type": "markdown",
   "metadata": {},
   "source": [
    "信息熵和信息增益"
   ]
  },
  {
   "cell_type": "code",
   "execution_count": 1,
   "metadata": {},
   "outputs": [],
   "source": [
    "import numpy as np"
   ]
  },
  {
   "cell_type": "code",
   "execution_count": 13,
   "metadata": {},
   "outputs": [],
   "source": [
    "data_dict={'feature':[[0,1],[1,0],[1,2],[0,0],[1,1]],'label':[0,1,0,0,1],'index':[0]}\n",
    "key_number={}"
   ]
  },
  {
   "cell_type": "code",
   "execution_count": 2,
   "metadata": {},
   "outputs": [
    {
     "name": "stdout",
     "output_type": "stream",
     "text": [
      "[[1]\n",
      " [0]\n",
      " [2]\n",
      " [0]\n",
      " [1]]\n"
     ]
    }
   ],
   "source": [
    "feature=np.array([[0,1],[1,0],[1,2],[0,0],[1,1]])\n",
    "index=1\n",
    "label=[0,1,0,0,1]\n",
    "print(feature[:,index:index+1]) # 取numpy数组单列"
   ]
  },
  {
   "cell_type": "code",
   "execution_count": null,
   "metadata": {},
   "outputs": [],
   "source": [
    "def calcInfoGain(feature, label, index):\n",
    "    '''\n",
    "    计算信息增益\n",
    "    :param feature:测试用例中字典里的feature，类型为ndarray\n",
    "    :param label:测试用例中字典里的label，类型为ndarray\n",
    "    :param index:测试用例中字典里的index，即feature部分特征列的索引。该索引指的是feature中第几个特征，如index:0表示使用第一个特征来计算信息增益。\n",
    "    :return:信息增益，类型float\n",
    "    '''\n",
    "    #*********** Begin ***********#\n",
    "    number_1=0\n",
    "    for i in label:\n",
    "        if i==1:number_1+=1\n",
    "        prob_label=number_1/len(label)\n",
    "    HD=-(1-prob_label)*np.log(1-prob_label,2)-prob_label*np.log(prob_label,2)\n",
    "    for num in feature[:,:index+1]:\n",
    "        key_label=num\n",
    "#         if key_label not in key_number.keys():key_number[key_label]=0\n",
    "        key_number[key_label]+=1\n",
    "    for keys in key_number:\n",
    "        prob1=float(key_number[keys])/len(label)\n",
    "        shannon-=prob1*log(prob1,2)\n",
    "    result=float(HV-shannon)\n",
    "    print(result)"
   ]
  },
  {
   "cell_type": "code",
   "execution_count": 20,
   "metadata": {},
   "outputs": [],
   "source": [
    "def createDataSet():\n",
    "    # 数据集\n",
    "    dataSet = [[0, 0, 0, 0, 'no'],\n",
    "               [0, 0, 0, 1, 'no'],\n",
    "               [0, 1, 0, 1, 'yes'],\n",
    "               [0, 1, 1, 0, 'yes'],\n",
    "               [0, 0, 0, 0, 'no'],\n",
    "               [1, 0, 0, 0, 'no'],\n",
    "               [1, 0, 0, 1, 'no'],\n",
    "               [1, 1, 1, 1, 'yes'],\n",
    "               [1, 0, 1, 2, 'yes'],\n",
    "               [1, 0, 1, 2, 'yes'],\n",
    "               [2, 0, 1, 2, 'yes'],\n",
    "               [2, 0, 1, 1, 'yes'],\n",
    "               [2, 1, 0, 1, 'yes'],\n",
    "               [2, 1, 0, 2, 'yes'],\n",
    "               [2, 0, 0, 0, 'no']]\n",
    "    # 分类属性\n",
    "    labels = ['年龄', '有工作', '有自己的房子', '信贷情况']\n",
    "    # 返回数据集和分类属性\n",
    "    return dataSet, labels"
   ]
  },
  {
   "cell_type": "markdown",
   "metadata": {},
   "source": [
    "函数说明：计算给定数据集的经验熵（香农熵）\n",
    "        Ent（D） = -SUM（kp*Log2（kp））\n",
    "Parameters:\n",
    "    dataSet - 数据集\n",
    "    \n",
    "Returns:\n",
    "    shannonEnt - 经验熵（香农熵）"
   ]
  },
  {
   "cell_type": "code",
   "execution_count": 28,
   "metadata": {},
   "outputs": [],
   "source": [
    "def calcShannonEnt(dataSet):\n",
    "    # 返回数据集的行数\n",
    "    numEntires = len(dataSet)\n",
    "    # 保存每个标签（Label）出现次数的“字典”\n",
    "    labelCounts = {}\n",
    "    # 对每组特征向量进行统计\n",
    "    for featVec in dataSet:\n",
    "        # 提取标签（Label）信息\n",
    "        currentLabel = featVec[-1]\n",
    "        # 如果标签（Label）没有放入统计次数的字典，添加进去\n",
    "        if currentLabel not in labelCounts.keys():\n",
    "            # 创建一个新的键值对，键为currentLabel值为0\n",
    "            labelCounts[currentLabel] = 0\n",
    "        # Label计数\n",
    "        labelCounts[currentLabel] += 1\n",
    "    # 经验熵（香农熵）\n",
    "    shannonEnt = 0.0\n",
    "    # 计算香农熵\n",
    "    for key in labelCounts:\n",
    "        # 选择该标签（Label）的概率\n",
    "        prob = float(labelCounts[key]) / numEntires\n",
    "        # 利用公式计算\n",
    "        shannonEnt -= prob*np.math.log(prob,2)\n",
    "    # 返回经验熵（香农熵）\n",
    "    return shannonEnt"
   ]
  },
  {
   "cell_type": "code",
   "execution_count": 29,
   "metadata": {},
   "outputs": [
    {
     "data": {
      "text/plain": [
       "0.9709505944546686"
      ]
     },
     "execution_count": 29,
     "metadata": {},
     "output_type": "execute_result"
    }
   ],
   "source": [
    "data,label=createDataSet()\n",
    "calcShannonEnt(data)"
   ]
  },
  {
   "cell_type": "code",
   "execution_count": 7,
   "metadata": {},
   "outputs": [],
   "source": [
    "def calcInfoGain(feature, label, index):\n",
    "    num=len(label)\n",
    "    number=0\n",
    "    shannon=0.0\n",
    "    shannon_fea=0.0\n",
    "    labelcount={}\n",
    "    featurecount={}\n",
    "    for i in label:\n",
    "        if i not in labelcount.keys():\n",
    "            labelcount[i]=0\n",
    "        labelcount[i]+=1\n",
    "        for j in feature[index]:\n",
    "            if i==1:\n",
    "                number+=1\n",
    "                if j not in featurecount.keys():\n",
    "                    feature[j]=0\n",
    "                feature[j]+=1\n",
    "    for label_key in labelcount:\n",
    "        prob=labelcount[label_key]/num\n",
    "        shannon+=-prob*np.math.log(prob,2)\n",
    "    for feature_key in featurecount:\n",
    "        prob_fea=feature[feature_key]/number\n",
    "        shannon_fea+=-prob_fea*np.math.log(prob_fea,2)\n",
    "    return shannon_fea"
   ]
  },
  {
   "cell_type": "code",
   "execution_count": 8,
   "metadata": {},
   "outputs": [
    {
     "data": {
      "text/plain": [
       "0.0"
      ]
     },
     "execution_count": 8,
     "metadata": {},
     "output_type": "execute_result"
    }
   ],
   "source": [
    "calcInfoGain(feature, label, index)"
   ]
  },
  {
   "cell_type": "code",
   "execution_count": null,
   "metadata": {},
   "outputs": [],
   "source": []
  }
 ],
 "metadata": {
  "kernelspec": {
   "display_name": "Python 3",
   "language": "python",
   "name": "python3"
  },
  "language_info": {
   "codemirror_mode": {
    "name": "ipython",
    "version": 3
   },
   "file_extension": ".py",
   "mimetype": "text/x-python",
   "name": "python",
   "nbconvert_exporter": "python",
   "pygments_lexer": "ipython3",
   "version": "3.7.6"
  }
 },
 "nbformat": 4,
 "nbformat_minor": 4
}
