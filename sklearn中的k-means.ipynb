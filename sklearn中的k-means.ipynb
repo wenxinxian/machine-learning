{
 "cells": [
  {
   "cell_type": "markdown",
   "metadata": {},
   "source": [
    "sklearn中的k-means"
   ]
  },
  {
   "cell_type": "code",
   "execution_count": 2,
   "metadata": {},
   "outputs": [],
   "source": [
    "#encoding=utf8\n",
    "from sklearn.cluster import KMeans\n",
    "\n",
    "def kmeans_cluster(data):\n",
    "    '''\n",
    "    input:data(ndarray):样本数据\n",
    "    output:result(ndarray):聚类结果\n",
    "    '''\n",
    "    #********* Begin *********#\n",
    "    km = KMeans(n_clusters=3,random_state=888)\n",
    "    result = km.fit_predict(data)\n",
    "\n",
    "    #********* End *********# \n",
    "    return result\n",
    "\n",
    "\n",
    "\n"
   ]
  },
  {
   "cell_type": "code",
   "execution_count": null,
   "metadata": {},
   "outputs": [],
   "source": []
  }
 ],
 "metadata": {
  "kernelspec": {
   "display_name": "Python 3",
   "language": "python",
   "name": "python3"
  },
  "language_info": {
   "codemirror_mode": {
    "name": "ipython",
    "version": 3
   },
   "file_extension": ".py",
   "mimetype": "text/x-python",
   "name": "python",
   "nbconvert_exporter": "python",
   "pygments_lexer": "ipython3",
   "version": "3.7.6"
  }
 },
 "nbformat": 4,
 "nbformat_minor": 4
}
