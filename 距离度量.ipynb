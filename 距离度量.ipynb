{
 "cells": [
  {
   "cell_type": "markdown",
   "metadata": {},
   "source": [
    "距离度量"
   ]
  },
  {
   "cell_type": "code",
   "execution_count": 1,
   "metadata": {},
   "outputs": [],
   "source": [
    "#encoding=utf8    \n",
    "import numpy as np\n",
    "\n",
    "def distance(x,y,p=2):\n",
    "    '''\n",
    "    input:x(ndarray):第一个样本的坐标\n",
    "          y(ndarray):第二个样本的坐标\n",
    "          p(int):等于1时为曼哈顿距离，等于2时为欧氏距离\n",
    "    output:distance(float):x到y的距离      \n",
    "    ''' \n",
    "    #********* Begin *********#\n",
    "    s1=sum(abs(x-y)**p)\n",
    "    d1=pow(s1,1/p)\n",
    "    return d1\n",
    "    #********* End *********#"
   ]
  },
  {
   "cell_type": "code",
   "execution_count": null,
   "metadata": {},
   "outputs": [],
   "source": []
  }
 ],
 "metadata": {
  "kernelspec": {
   "display_name": "Python 3",
   "language": "python",
   "name": "python3"
  },
  "language_info": {
   "codemirror_mode": {
    "name": "ipython",
    "version": 3
   },
   "file_extension": ".py",
   "mimetype": "text/x-python",
   "name": "python",
   "nbconvert_exporter": "python",
   "pygments_lexer": "ipython3",
   "version": "3.7.6"
  }
 },
 "nbformat": 4,
 "nbformat_minor": 4
}
