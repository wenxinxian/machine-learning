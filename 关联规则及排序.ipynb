{
 "cells": [
  {
   "cell_type": "markdown",
   "metadata": {},
   "source": [
    "关联规则-计算规则支持度和置信度"
   ]
  },
  {
   "cell_type": "code",
   "execution_count": 1,
   "metadata": {},
   "outputs": [],
   "source": [
    "import numpy as np\n",
    "from collections import defaultdict\n",
    "from operator import itemgetter"
   ]
  },
  {
   "cell_type": "code",
   "execution_count": 2,
   "metadata": {},
   "outputs": [
    {
     "name": "stdout",
     "output_type": "stream",
     "text": [
      "Overwriting data_file.txt\n"
     ]
    }
   ],
   "source": [
    "%%writefile data_file.txt\n",
    "1,0,1,0,0\n",
    "0,1,0,1,0\n",
    "0,1,1,0,0\n",
    "1,0,1,0,0\n",
    "0,1,0,0,1\n",
    "0,1,0,1,0\n",
    "0,1,1,0,0\n",
    "1,0,1,0,0\n",
    "0,1,0,0,1"
   ]
  },
  {
   "cell_type": "code",
   "execution_count": 2,
   "metadata": {},
   "outputs": [],
   "source": [
    "data=np.loadtxt('C:/Users/zhouteng/data_file.txt',delimiter=' ')\n",
    "# data=np.loadtxt('data_file.txt',delimiter=',')\n",
    "from collections import defaultdict\n",
    "features = [\"milk\",\"bread\",\"apple\",\"banana\",\"ham\"]  #存放商品名称\n",
    "valid_rules = defaultdict(int)      #存放所有的规则应验的情况\n",
    "invaild_rules = defaultdict(int)    #存放规则无效\n",
    "num_occurances = defaultdict(int)   #存放条件相同的规则数量"
   ]
  },
  {
   "cell_type": "code",
   "execution_count": 16,
   "metadata": {},
   "outputs": [],
   "source": [
    "def print_rule(premise,conclusion):\n",
    "    for sample in data:\n",
    "        for i in range(len(features)):\n",
    "            if sample[i]==0:continue\n",
    "            num_occurances[i]+=1\n",
    "            for j in range(len(features)):\n",
    "                if i==j:continue\n",
    "                if sample[j]==1:\n",
    "                    valid_rules[(i,j)]+=1\n",
    "                else:invaild_rules[(i,j)]+=1\n",
    "    print(valid_rules)\n",
    "    support = valid_rules[(premise,conclusion)]\n",
    "    confidence = support / num_occurances[premise]     \n",
    "    print('Rule:If a person buys {0} they will also buy {1}'.format(features[premise],features[conclusion]))\n",
    "    print('- Confidence: {:.3f}'.format(confidence))\n",
    "    print('- Support: {0}'.format(support))    "
   ]
  },
  {
   "cell_type": "code",
   "execution_count": 7,
   "metadata": {
    "scrolled": false
   },
   "outputs": [
    {
     "name": "stdout",
     "output_type": "stream",
     "text": [
      "1\n",
      "4\n",
      "defaultdict(<class 'int'>, {(0, 2): 4, (1, 3): 2, (1, 2): 2, (1, 4): 2})\n",
      "[((0, 2), 4), ((1, 3), 2), ((1, 2), 2), ((1, 4), 2)]\n",
      "4\n"
     ]
    },
    {
     "ename": "TypeError",
     "evalue": "list indices must be integers or slices, not str",
     "output_type": "error",
     "traceback": [
      "\u001b[1;31m---------------------------------------------------------------------------\u001b[0m",
      "\u001b[1;31mTypeError\u001b[0m                                 Traceback (most recent call last)",
      "\u001b[1;32m<ipython-input-7-a04a4589db85>\u001b[0m in \u001b[0;36m<module>\u001b[1;34m\u001b[0m\n\u001b[0;32m      1\u001b[0m \u001b[0mpremise\u001b[0m\u001b[1;33m=\u001b[0m\u001b[0minput\u001b[0m\u001b[1;33m(\u001b[0m\u001b[1;33m)\u001b[0m \u001b[1;31m##输入需转化为整型\u001b[0m\u001b[1;33m\u001b[0m\u001b[1;33m\u001b[0m\u001b[0m\n\u001b[0;32m      2\u001b[0m \u001b[0mconclusion\u001b[0m\u001b[1;33m=\u001b[0m\u001b[0minput\u001b[0m\u001b[1;33m(\u001b[0m\u001b[1;33m)\u001b[0m\u001b[1;33m\u001b[0m\u001b[1;33m\u001b[0m\u001b[0m\n\u001b[1;32m----> 3\u001b[1;33m \u001b[0mprint_rule\u001b[0m\u001b[1;33m(\u001b[0m\u001b[0mpremise\u001b[0m\u001b[1;33m,\u001b[0m\u001b[0mconclusion\u001b[0m\u001b[1;33m)\u001b[0m\u001b[1;33m\u001b[0m\u001b[1;33m\u001b[0m\u001b[0m\n\u001b[0m",
      "\u001b[1;32m<ipython-input-4-35a6bb3cddd6>\u001b[0m in \u001b[0;36mprint_rule\u001b[1;34m(premise, conclusion)\u001b[0m\n\u001b[0;32m     13\u001b[0m     \u001b[0mprint\u001b[0m\u001b[1;33m(\u001b[0m\u001b[0msorted_valid_rules\u001b[0m\u001b[1;33m)\u001b[0m\u001b[1;33m\u001b[0m\u001b[1;33m\u001b[0m\u001b[0m\n\u001b[0;32m     14\u001b[0m     \u001b[0mprint\u001b[0m\u001b[1;33m(\u001b[0m\u001b[0msorted_valid_rules\u001b[0m\u001b[1;33m[\u001b[0m\u001b[1;36m0\u001b[0m\u001b[1;33m]\u001b[0m\u001b[1;33m[\u001b[0m\u001b[1;36m1\u001b[0m\u001b[1;33m]\u001b[0m\u001b[1;33m)\u001b[0m\u001b[1;33m\u001b[0m\u001b[1;33m\u001b[0m\u001b[0m\n\u001b[1;32m---> 15\u001b[1;33m     \u001b[0msupport\u001b[0m \u001b[1;33m=\u001b[0m \u001b[0msorted_valid_rules\u001b[0m\u001b[1;33m[\u001b[0m\u001b[0mpremise\u001b[0m\u001b[1;33m]\u001b[0m\u001b[1;33m[\u001b[0m\u001b[1;36m1\u001b[0m\u001b[1;33m]\u001b[0m\u001b[1;33m\u001b[0m\u001b[1;33m\u001b[0m\u001b[0m\n\u001b[0m\u001b[0;32m     16\u001b[0m     \u001b[0mconfidence\u001b[0m \u001b[1;33m=\u001b[0m \u001b[0msupport\u001b[0m \u001b[1;33m/\u001b[0m \u001b[0mnum_occurances\u001b[0m\u001b[1;33m[\u001b[0m\u001b[0mpremise\u001b[0m\u001b[1;33m]\u001b[0m\u001b[1;33m\u001b[0m\u001b[1;33m\u001b[0m\u001b[0m\n\u001b[0;32m     17\u001b[0m     \u001b[0mprint\u001b[0m\u001b[1;33m(\u001b[0m\u001b[1;34m'Rule:If a person buys {0} they will also buy {1}'\u001b[0m\u001b[1;33m.\u001b[0m\u001b[0mformat\u001b[0m\u001b[1;33m(\u001b[0m\u001b[0mfeatures\u001b[0m\u001b[1;33m[\u001b[0m\u001b[0mpremise\u001b[0m\u001b[1;33m]\u001b[0m\u001b[1;33m,\u001b[0m\u001b[0mfeatures\u001b[0m\u001b[1;33m[\u001b[0m\u001b[0mconclusion\u001b[0m\u001b[1;33m]\u001b[0m\u001b[1;33m)\u001b[0m\u001b[1;33m)\u001b[0m\u001b[1;33m\u001b[0m\u001b[1;33m\u001b[0m\u001b[0m\n",
      "\u001b[1;31mTypeError\u001b[0m: list indices must be integers or slices, not str"
     ]
    }
   ],
   "source": [
    "premise=input() ##输入需转化为整型\n",
    "conclusion=input()\n",
    "print_rule(premise,conclusion)"
   ]
  },
  {
   "cell_type": "code",
   "execution_count": 17,
   "metadata": {},
   "outputs": [
    {
     "name": "stdout",
     "output_type": "stream",
     "text": [
      "1\n",
      "3\n",
      "defaultdict(<class 'int'>, {(2, 3): 100, (2, 4): 108, (3, 4): 84, (0, 1): 56, (0, 3): 20, (1, 3): 36, (0, 2): 16, (1, 4): 76, (0, 4): 68, (1, 2): 28, (3, 2): 50, (4, 2): 54, (4, 3): 42, (1, 0): 28, (3, 0): 10, (3, 1): 18, (2, 0): 8, (4, 1): 38, (4, 0): 34, (2, 1): 14})\n",
      "Rule:If a person buys bread they will also buy banana\n",
      "- Confidence: 0.196\n",
      "- Support: 36\n"
     ]
    }
   ],
   "source": [
    "premise = int(input())          #获取条件\n",
    "conclusion = int(input())       #获取结论\n",
    "print_rule(premise,conclusion) "
   ]
  },
  {
   "cell_type": "markdown",
   "metadata": {},
   "source": [
    "取支持度排前5的规则，并输出其置信地和支持度"
   ]
  },
  {
   "cell_type": "code",
   "execution_count": 18,
   "metadata": {},
   "outputs": [],
   "source": [
    "def print_rule(features):\n",
    "    for sample in data:\n",
    "        for premise in range(len(features)):\n",
    "            if sample[premise]==0:continue\n",
    "            num_occurances[premise]+=1\n",
    "            for conclusion in range(premise,len(features)):\n",
    "                if premise==conclusion:continue\n",
    "                if sample[conclusion]==1:\n",
    "                    valid_rules[(premise,conclusion)]+=1\n",
    "                else:invaild_rules[(premise,conclusion)]+=1\n",
    "#     print(valid_rules)\n",
    "#     support = valid_rules[(premise,conclusion)]\n",
    "#     confidence = support / num_occurances[premise]    \n",
    "    \n",
    "    from operator import itemgetter\n",
    "    sorted_valid_rules = sorted(valid_rules.items(), key=itemgetter(1), reverse=True)\n",
    "    # print(valid_rules)\n",
    "    print(sorted_valid_rules)\n",
    "    for index in range(5):\n",
    "        premise = sorted_valid_rules[index][0][0]\n",
    "        conclusion = sorted_valid_rules[index][0][1]\n",
    "        support = sorted_valid_rules[index][1]\n",
    "        confidence = support / num_occurances[premise]\n",
    "        print(\"Rule #{}\".format(index+1))\n",
    "        print(\"Rule: If a person buys {0} they will also buy {1}\".format(features[premise], features[conclusion]))\n",
    "        print(\"- Confidence: {:.3f}\".format(confidence))\n",
    "        print(\"- Support: {}\".format(support))"
   ]
  },
  {
   "cell_type": "code",
   "execution_count": 13,
   "metadata": {},
   "outputs": [
    {
     "name": "stdout",
     "output_type": "stream",
     "text": [
      "[((2, 4), 54), ((2, 3), 50), ((3, 4), 42), ((1, 4), 38), ((0, 4), 34), ((0, 1), 28), ((1, 3), 18), ((1, 2), 14), ((0, 3), 10), ((0, 2), 8)]\n",
      "Rule #1\n",
      "Rule: If a person buys apple they will also buy ham\n",
      "- Confidence: 0.659\n",
      "- Support: 54\n",
      "Rule #2\n",
      "Rule: If a person buys apple they will also buy banana\n",
      "- Confidence: 0.610\n",
      "- Support: 50\n",
      "Rule #3\n",
      "Rule: If a person buys banana they will also buy ham\n",
      "- Confidence: 0.583\n",
      "- Support: 42\n",
      "Rule #4\n",
      "Rule: If a person buys bread they will also buy ham\n",
      "- Confidence: 0.413\n",
      "- Support: 38\n",
      "Rule #5\n",
      "Rule: If a person buys milk they will also buy ham\n",
      "- Confidence: 0.630\n",
      "- Support: 34\n"
     ]
    }
   ],
   "source": [
    "print_rule(features)"
   ]
  },
  {
   "cell_type": "code",
   "execution_count": 3,
   "metadata": {},
   "outputs": [
    {
     "name": "stdout",
     "output_type": "stream",
     "text": [
      "[((2, 4), 27), ((4, 2), 27), ((2, 3), 25), ((3, 2), 25), ((3, 4), 21), ((4, 3), 21), ((1, 4), 19), ((4, 1), 19), ((0, 4), 17), ((4, 0), 17), ((0, 1), 14), ((1, 0), 14), ((1, 3), 9), ((3, 1), 9), ((1, 2), 7), ((2, 1), 7), ((0, 3), 5), ((3, 0), 5), ((0, 2), 4), ((2, 0), 4)]\n",
      "Rule #1\n",
      "Rule: If a person buys apple they will also buy ham\n",
      "- Confidence: 0.659\n",
      "- Support: 27\n",
      "Rule #2\n",
      "Rule: If a person buys ham they will also buy apple\n",
      "- Confidence: 0.458\n",
      "- Support: 27\n",
      "Rule #3\n",
      "Rule: If a person buys apple they will also buy banana\n",
      "- Confidence: 0.610\n",
      "- Support: 25\n",
      "Rule #4\n",
      "Rule: If a person buys banana they will also buy apple\n",
      "- Confidence: 0.694\n",
      "- Support: 25\n",
      "Rule #5\n",
      "Rule: If a person buys banana they will also buy ham\n",
      "- Confidence: 0.583\n",
      "- Support: 21\n"
     ]
    }
   ],
   "source": [
    "def print_rule(features):\n",
    "    for sample in data:\n",
    "        for i in range(len(features)):\n",
    "            if sample[i]==0:continue\n",
    "            num_occurances[i]+=1\n",
    "            for j in range(len(features)):\n",
    "                if i==j:continue\n",
    "                if sample[j]==1:\n",
    "                    valid_rules[(i,j)]+=1\n",
    "                else:invaild_rules[(i,j)]+=1\n",
    "#     print(valid_rules)\n",
    "#     support = valid_rules[(premise,conclusion)]\n",
    "#     confidence = support / num_occurances[premise]    \n",
    "    \n",
    "    from operator import itemgetter\n",
    "    sorted_valid_rules = sorted(valid_rules.items(), key=itemgetter(1), reverse=True)\n",
    "    # print(valid_rules)\n",
    "    print(sorted_valid_rules)\n",
    "    for index in range(5):\n",
    "        premise = sorted_valid_rules[index][0][0]\n",
    "        conclusion = sorted_valid_rules[index][0][1]\n",
    "        support = sorted_valid_rules[index][1]\n",
    "        confidence = support / num_occurances[premise]\n",
    "        print(\"Rule #{}\".format(index+1))\n",
    "        print(\"Rule: If a person buys {0} they will also buy {1}\".format(features[premise], features[conclusion]))\n",
    "        print(\"- Confidence: {:.3f}\".format(confidence))\n",
    "        print(\"- Support: {}\".format(support))\n",
    "        \n",
    "print_rule(features)"
   ]
  },
  {
   "cell_type": "code",
   "execution_count": 4,
   "metadata": {},
   "outputs": [
    {
     "name": "stdout",
     "output_type": "stream",
     "text": [
      "Rule #1\n",
      "Rule: If a person buys apple they will also buy ham\n",
      "- Confidence: 0.659\n",
      "- Support: 54\n",
      "Rule #2\n",
      "Rule: If a person buys apple they will also buy banana\n",
      "- Confidence: 0.610\n",
      "- Support: 50\n",
      "Rule #3\n",
      "Rule: If a person buys banana they will also buy apple\n",
      "- Confidence: 0.694\n",
      "- Support: 50\n",
      "Rule #4\n",
      "Rule: If a person buys banana they will also buy ham\n",
      "- Confidence: 0.583\n",
      "- Support: 42\n",
      "Rule #5\n",
      "Rule: If a person buys bread they will also buy ham\n",
      "- Confidence: 0.413\n",
      "- Support: 38\n"
     ]
    }
   ],
   "source": [
    "for sample in data:           \n",
    "    for premise in range(4):\n",
    "        if sample[premise] == 0:continue \n",
    "        num_occurances[premise] += 1      \n",
    "        for conclusion in range(len(features)):\n",
    "            if premise == conclusion:continue\n",
    "            if sample[conclusion] == 1:\n",
    "                valid_rules[(premise,conclusion)] += 1\n",
    "            else:\n",
    "                invaild_rules[(premise,conclusion)] += 1            \n",
    "support = valid_rules\n",
    "confidence = defaultdict(float)\n",
    "for premise,conclusion in valid_rules.keys():\n",
    "    rule = (premise,conclusion)\n",
    "    confidence[rule] = valid_rules[rule] / num_occurances[premise]\n",
    "def print_rule(premise,conclusion,support,confidence,features):\n",
    "    premise_name = features[premise]\n",
    "    conclusion_name = features[conclusion]\n",
    "    print(\"Rule: If a person buys {0} they will also buy {1}\".format(premise_name,conclusion_name))\n",
    "    print(\"- Confidence: {0:.3f}\".format(confidence[(premise,conclusion)]))  \n",
    "    print(\"- Support: {0}\".format(support[(premise,conclusion)]))\n",
    "from operator import itemgetter \n",
    "sorted_support = sorted(support.items(), key=itemgetter(1), reverse=True)\n",
    "for index in range(5): \n",
    "    print(\"Rule #{0}\".format(index + 1)) \n",
    "    premise, conclusion = sorted_support[index][0] \n",
    "    print_rule(premise, conclusion, support, confidence, features) "
   ]
  },
  {
   "cell_type": "code",
   "execution_count": null,
   "metadata": {},
   "outputs": [],
   "source": []
  }
 ],
 "metadata": {
  "kernelspec": {
   "display_name": "Python 3",
   "language": "python",
   "name": "python3"
  },
  "language_info": {
   "codemirror_mode": {
    "name": "ipython",
    "version": 3
   },
   "file_extension": ".py",
   "mimetype": "text/x-python",
   "name": "python",
   "nbconvert_exporter": "python",
   "pygments_lexer": "ipython3",
   "version": "3.7.6"
  }
 },
 "nbformat": 4,
 "nbformat_minor": 4
}
